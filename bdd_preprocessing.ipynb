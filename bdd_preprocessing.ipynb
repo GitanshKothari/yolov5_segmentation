{
 "cells": [
  {
   "cell_type": "code",
   "execution_count": 21,
   "metadata": {},
   "outputs": [
    {
     "name": "stderr",
     "output_type": "stream",
     "text": [
      "100%|██████████| 10000/10000 [00:03<00:00, 2616.23it/s]\n"
     ]
    }
   ],
   "source": [
    "import json\n",
    "from pathlib import Path\n",
    "import cv2\n",
    "import numpy as np\n",
    "from tqdm import tqdm\n",
    "import os\n",
    "\n",
    "\n",
    "mode = 'val' # 'val' or 'train'\n",
    "img_width = 1280\n",
    "img_height = 720\n",
    "root_folder = Path('BDDDataset')\n",
    "images_folder = root_folder / 'images' / mode\n",
    "labels_folder = root_folder / 'labels'\n",
    "det_folder = root_folder / 'labels' / 'det' / mode\n",
    "seg_folder = root_folder / 'labels' / 'seg' / mode\n",
    "\n",
    "\n",
    "det_folder.mkdir(parents=True, exist_ok=True)\n",
    "seg_folder.mkdir(parents=True, exist_ok=True)\n",
    "\n",
    "detection_classes = {\n",
    "    'pedestrian':   0,\n",
    "    'rider':        1,\n",
    "    'car':          2,\n",
    "    'truck':        3,\n",
    "    'bus':          4,\n",
    "    'train':        5,\n",
    "    'motorcycle':   6,\n",
    "    'bicycle':      7,\n",
    "    'traffic light': 8,\n",
    "    'traffic sign': 9,\n",
    "}\n",
    "\n",
    "with open(labels_folder / f'{mode}.json', 'r') as f:\n",
    "    data = json.load(f)\n",
    "\n",
    "img_names = [img['name'] for img in data]\n",
    "actual_imgs = images_folder.iterdir()\n",
    "remove_imgs = [img for img in actual_imgs if img not in img_names]\n",
    "for img in remove_imgs:\n",
    "    os.remove(images_folder / img)\n",
    "\n",
    "for img in tqdm(data):\n",
    "    img_name = img['name']\n",
    "    img_path = images_folder / img_name\n",
    "    if not img_path.exists():\n",
    "        continue\n",
    "\n",
    "    with open(det_folder / (img_name.replace('.jpg', '.txt')), 'w') as f:\n",
    "        for label in img['labels']:\n",
    "            if label['category'] in detection_classes:\n",
    "                # Convert pixel coordinates to YOLO format\n",
    "                x_center = (label['box2d']['x1'] + label['box2d']['x2']) / (2 * img_width)\n",
    "                y_center = (label['box2d']['y1'] + label['box2d']['y2']) / (2 * img_height)\n",
    "                width = (label['box2d']['x2'] - label['box2d']['x1']) / img_width\n",
    "                height = (label['box2d']['y2'] - label['box2d']['y1']) / img_height\n",
    "                f.write(f\"{detection_classes[label['category']]} {x_center:.4f} {y_center:.4f} {width:.4f} {height:.4f}\\n\")\n",
    "        \n",
    "    mask = np.zeros((img_height, img_width, 1), dtype=np.uint8)\n",
    "    for label in img['labels']:\n",
    "        if label['category'] == 'drivable area':\n",
    "            poly = label['poly2d'][0]['vertices']\n",
    "            if poly:\n",
    "                poly = np.array([[(v[0], v[1]) for v in poly]], dtype=np.int32)\n",
    "                cv2.fillPoly(mask, poly, 255)\n",
    "    mask_path = seg_folder / (img_name)\n",
    "    cv2.imwrite(str(mask_path), mask)"
   ]
  }
 ],
 "metadata": {
  "kernelspec": {
   "display_name": "yolov5",
   "language": "python",
   "name": "python3"
  },
  "language_info": {
   "codemirror_mode": {
    "name": "ipython",
    "version": 3
   },
   "file_extension": ".py",
   "mimetype": "text/x-python",
   "name": "python",
   "nbconvert_exporter": "python",
   "pygments_lexer": "ipython3",
   "version": "3.9.18"
  }
 },
 "nbformat": 4,
 "nbformat_minor": 2
}
